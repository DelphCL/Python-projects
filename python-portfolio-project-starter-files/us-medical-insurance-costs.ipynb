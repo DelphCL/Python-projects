{
 "cells": [
  {
   "cell_type": "markdown",
   "metadata": {},
   "source": [
    "# U.S. Medical Insurance Costs"
   ]
  },
  {
   "cell_type": "raw",
   "metadata": {},
   "source": [
    "Step 1: Goals – Define the goal(s) of the project\n",
    "- determine the average age of the patients in the dataset??\n",
    "- determine the difference of costs between smokers and non-smokers?\n",
    "- determine a correlation of costs according to BMI? \n",
    "- determine where the majority of individuals are from and the repartition per region ?\n",
    "\n",
    "Step 2: Actions – What actions/interventions do you have that this project will inform?\n",
    "- possible actions would be:\n",
    "    Aiming to reduce insurance costs by:\n",
    "        - educating people on correlation between insurance costs and BMI and smoking vs non-smoking ?\n",
    "        - targetting campaigns / resources to certains regions ?\n",
    "\n",
    "Step 3: Data – What data do you have access to internally? What data do you need? What can you augment from external and/or public sources?\n",
    "The insurance.csv document contains data about: age, sex, BMI, children, smoker, region and charges. \n",
    "\n",
    "Step 4: Analysis – What analysis needs to be done? Does it involve description, detection, prediction, optimization, or behavior change? How will the analysis be validated?\n",
    "Description and postentially detection & optimization ? \n",
    "\n",
    "Ethical Considerations:  How have you thought through privacy, transparency, discrimination/equity, and accountability issues around this project?\n",
    "Do we have consent from the people whose data are being used ? in particular on age and BMI ?)"
   ]
  },
  {
   "cell_type": "code",
   "execution_count": 22,
   "metadata": {},
   "outputs": [],
   "source": [
    "import csv \n",
    "import pandas as pd"
   ]
  },
  {
   "cell_type": "code",
   "execution_count": 23,
   "metadata": {},
   "outputs": [],
   "source": [
    "with open ('insurance.csv','r') as insurance_doc:\n",
    "    df = pd.read_csv(insurance_doc)"
   ]
  },
  {
   "cell_type": "code",
   "execution_count": 24,
   "metadata": {},
   "outputs": [
    {
     "name": "stdout",
     "output_type": "stream",
     "text": [
      "<bound method NDFrame.head of       age     sex     bmi  children smoker     region      charges\n",
      "0      19  female  27.900         0    yes  southwest  16884.92400\n",
      "1      18    male  33.770         1     no  southeast   1725.55230\n",
      "2      28    male  33.000         3     no  southeast   4449.46200\n",
      "3      33    male  22.705         0     no  northwest  21984.47061\n",
      "4      32    male  28.880         0     no  northwest   3866.85520\n",
      "...   ...     ...     ...       ...    ...        ...          ...\n",
      "1333   50    male  30.970         3     no  northwest  10600.54830\n",
      "1334   18  female  31.920         0     no  northeast   2205.98080\n",
      "1335   18  female  36.850         0     no  southeast   1629.83350\n",
      "1336   21  female  25.800         0     no  southwest   2007.94500\n",
      "1337   61  female  29.070         0    yes  northwest  29141.36030\n",
      "\n",
      "[1338 rows x 7 columns]>\n"
     ]
    }
   ],
   "source": [
    "print(df.head)"
   ]
  },
  {
   "cell_type": "code",
   "execution_count": 25,
   "metadata": {},
   "outputs": [],
   "source": [
    "average_age=df['age'].mean()"
   ]
  },
  {
   "cell_type": "code",
   "execution_count": 26,
   "metadata": {},
   "outputs": [
    {
     "name": "stdout",
     "output_type": "stream",
     "text": [
      "Object `dataset` not found.\n",
      "Average age is 39\n"
     ]
    }
   ],
   "source": [
    "Determine the average age of the patients in the dataset??\n",
    "\n",
    "print('Average age is ' + str(int(average_age)))"
   ]
  },
  {
   "cell_type": "code",
   "execution_count": null,
   "metadata": {},
   "outputs": [],
   "source": []
  },
  {
   "cell_type": "raw",
   "metadata": {},
   "source": []
  },
  {
   "cell_type": "code",
   "execution_count": 28,
   "metadata": {},
   "outputs": [
    {
     "name": "stdout",
     "output_type": "stream",
     "text": [
      "Average insurance costs smokers : 32050.23183153284\n",
      "Average insurance costs non smokers : 8434.268297856204\n"
     ]
    }
   ],
   "source": [
    "# Determine the difference of costs between smokers and non-smokers:\n",
    "average_insurance_costs_smokers=df[df['smoker'] == 'yes']['charges'].mean()\n",
    "print(\"Average insurance costs smokers : \" + str(average_insurance_costs_smokers))\n",
    "average_insurance_costs_non_smokers=df[df['smoker'] == 'no']['charges'].mean()\n",
    "print(\"Average insurance costs non smokers : \" + str(average_insurance_costs_non_smokers))"
   ]
  },
  {
   "cell_type": "code",
   "execution_count": 38,
   "metadata": {},
   "outputs": [
    {
     "name": "stdout",
     "output_type": "stream",
     "text": [
      "The difference of cost between smokers and non smoker is on average :23615.963533676637\n"
     ]
    }
   ],
   "source": [
    "difference_smokers_no_smokers = average_insurance_costs_smokers - average_insurance_costs_non_smokers\n",
    "print(\"The difference of cost between smokers and non smoker is on average :\" + str(difference_smokers_no_smokers))"
   ]
  },
  {
   "cell_type": "code",
   "execution_count": 32,
   "metadata": {},
   "outputs": [],
   "source": [
    "#Determine a correlation of costs according to BMI? \n",
    "correlation = df['bmi'].corr(df['charges'])"
   ]
  },
  {
   "cell_type": "code",
   "execution_count": 33,
   "metadata": {},
   "outputs": [
    {
     "name": "stdout",
     "output_type": "stream",
     "text": [
      "Correlation coefficient between BMI and charges: 0.1983409688336289\n"
     ]
    }
   ],
   "source": [
    "print(\"Correlation coefficient between BMI and charges:\", correlation)"
   ]
  },
  {
   "cell_type": "markdown",
   "metadata": {},
   "source": [
    "The corr() function in pandas calculates the Pearson correlation coefficient by default, which measures the linear relationship between two continuous variables like 'bmi' and 'charges'. The result will be a correlation coefficient value between -1 and 1. A positive value indicates a positive correlation, and a negative value indicates a negative correlation. The closer the absolute value is to 1, the stronger the correlation."
   ]
  },
  {
   "cell_type": "code",
   "execution_count": 36,
   "metadata": {},
   "outputs": [
    {
     "name": "stdout",
     "output_type": "stream",
     "text": [
      "southeast    364\n",
      "southwest    325\n",
      "northwest    325\n",
      "northeast    324\n",
      "Name: region, dtype: int64\n"
     ]
    }
   ],
   "source": [
    "#Determirepartition_per_region = df['region'].value_counts()ne where the majority of individuals are from and the repartition per region ?\n",
    "repartition_per_region = df['region'].value_counts()\n",
    "print(repartition_per_region)"
   ]
  },
  {
   "cell_type": "code",
   "execution_count": null,
   "metadata": {},
   "outputs": [],
   "source": []
  }
 ],
 "metadata": {
  "kernelspec": {
   "display_name": "Python 3 (ipykernel)",
   "language": "python",
   "name": "python3"
  },
  "language_info": {
   "codemirror_mode": {
    "name": "ipython",
    "version": 3
   },
   "file_extension": ".py",
   "mimetype": "text/x-python",
   "name": "python",
   "nbconvert_exporter": "python",
   "pygments_lexer": "ipython3",
   "version": "3.10.9"
  }
 },
 "nbformat": 4,
 "nbformat_minor": 4
}
