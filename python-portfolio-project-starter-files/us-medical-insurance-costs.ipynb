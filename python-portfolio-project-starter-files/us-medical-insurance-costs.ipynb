{
 "cells": [
  {
   "cell_type": "code",
   "execution_count": null,
   "metadata": {},
   "outputs": [],
   "source": [
    "# U.S. Medical Insurance Costs"
   ]
  },
  {
   "cell_type": "raw",
   "metadata": {},
   "source": [
    "Step 1: Goals – Define the goal(s) of the project\n",
    "- determine the average age of the patients in the dataset??\n",
    "- determine the difference of costs between smokers and non-smokers?\n",
    "- determine a correlation of costs according to BMI? \n",
    "- determine where the majority of individuals are from and the repartition per region ?\n",
    "\n",
    "Step 2: Actions – What actions/interventions do you have that this project will inform?\n",
    "- possible actions would be:\n",
    "    Aiming to reduce insurance costs by:\n",
    "        - educating people on correlation between insurance costs and BMI and smoking vs non-smoking ?\n",
    "        - targetting campaigns / resources to certains regions ?\n",
    "\n",
    "Step 3: Data – What data do you have access to internally? What data do you need? What can you augment from external and/or public sources?\n",
    "The insurance.csv document contains data about: age, sex, BMI, children, smoker, region and charges. \n",
    "\n",
    "Step 4: Analysis – What analysis needs to be done? Does it involve description, detection, prediction, optimization, or behavior change? How will the analysis be validated?\n",
    "Description and potentially detection & optimization ? \n",
    "\n",
    "Ethical Considerations:  How have you thought through privacy, transparency, discrimination/equity, and accountability issues around this project?\n",
    "Do we have consent from the people whose data are being used ? in particular on age and BMI ?)"
   ]
  },
  {
   "cell_type": "code",
   "execution_count": 41,
   "metadata": {},
   "outputs": [],
   "source": [
    "import csv \n",
    "import pandas as pd"
   ]
  },
  {
   "cell_type": "code",
   "execution_count": 42,
   "metadata": {},
   "outputs": [],
   "source": [
    "with open ('insurance.csv','r') as insurance_doc:\n",
    "    df = pd.read_csv(insurance_doc)"
   ]
  },
  {
   "cell_type": "code",
   "execution_count": 43,
   "metadata": {},
   "outputs": [
    {
     "data": {
      "text/html": [
       "<div>\n",
       "<style scoped>\n",
       "    .dataframe tbody tr th:only-of-type {\n",
       "        vertical-align: middle;\n",
       "    }\n",
       "\n",
       "    .dataframe tbody tr th {\n",
       "        vertical-align: top;\n",
       "    }\n",
       "\n",
       "    .dataframe thead th {\n",
       "        text-align: right;\n",
       "    }\n",
       "</style>\n",
       "<table border=\"1\" class=\"dataframe\">\n",
       "  <thead>\n",
       "    <tr style=\"text-align: right;\">\n",
       "      <th></th>\n",
       "      <th>age</th>\n",
       "      <th>sex</th>\n",
       "      <th>bmi</th>\n",
       "      <th>children</th>\n",
       "      <th>smoker</th>\n",
       "      <th>region</th>\n",
       "      <th>charges</th>\n",
       "    </tr>\n",
       "  </thead>\n",
       "  <tbody>\n",
       "    <tr>\n",
       "      <th>0</th>\n",
       "      <td>19</td>\n",
       "      <td>female</td>\n",
       "      <td>27.900</td>\n",
       "      <td>0</td>\n",
       "      <td>yes</td>\n",
       "      <td>southwest</td>\n",
       "      <td>16884.92400</td>\n",
       "    </tr>\n",
       "    <tr>\n",
       "      <th>1</th>\n",
       "      <td>18</td>\n",
       "      <td>male</td>\n",
       "      <td>33.770</td>\n",
       "      <td>1</td>\n",
       "      <td>no</td>\n",
       "      <td>southeast</td>\n",
       "      <td>1725.55230</td>\n",
       "    </tr>\n",
       "    <tr>\n",
       "      <th>2</th>\n",
       "      <td>28</td>\n",
       "      <td>male</td>\n",
       "      <td>33.000</td>\n",
       "      <td>3</td>\n",
       "      <td>no</td>\n",
       "      <td>southeast</td>\n",
       "      <td>4449.46200</td>\n",
       "    </tr>\n",
       "    <tr>\n",
       "      <th>3</th>\n",
       "      <td>33</td>\n",
       "      <td>male</td>\n",
       "      <td>22.705</td>\n",
       "      <td>0</td>\n",
       "      <td>no</td>\n",
       "      <td>northwest</td>\n",
       "      <td>21984.47061</td>\n",
       "    </tr>\n",
       "    <tr>\n",
       "      <th>4</th>\n",
       "      <td>32</td>\n",
       "      <td>male</td>\n",
       "      <td>28.880</td>\n",
       "      <td>0</td>\n",
       "      <td>no</td>\n",
       "      <td>northwest</td>\n",
       "      <td>3866.85520</td>\n",
       "    </tr>\n",
       "    <tr>\n",
       "      <th>5</th>\n",
       "      <td>31</td>\n",
       "      <td>female</td>\n",
       "      <td>25.740</td>\n",
       "      <td>0</td>\n",
       "      <td>no</td>\n",
       "      <td>southeast</td>\n",
       "      <td>3756.62160</td>\n",
       "    </tr>\n",
       "    <tr>\n",
       "      <th>6</th>\n",
       "      <td>46</td>\n",
       "      <td>female</td>\n",
       "      <td>33.440</td>\n",
       "      <td>1</td>\n",
       "      <td>no</td>\n",
       "      <td>southeast</td>\n",
       "      <td>8240.58960</td>\n",
       "    </tr>\n",
       "    <tr>\n",
       "      <th>7</th>\n",
       "      <td>37</td>\n",
       "      <td>female</td>\n",
       "      <td>27.740</td>\n",
       "      <td>3</td>\n",
       "      <td>no</td>\n",
       "      <td>northwest</td>\n",
       "      <td>7281.50560</td>\n",
       "    </tr>\n",
       "    <tr>\n",
       "      <th>8</th>\n",
       "      <td>37</td>\n",
       "      <td>male</td>\n",
       "      <td>29.830</td>\n",
       "      <td>2</td>\n",
       "      <td>no</td>\n",
       "      <td>northeast</td>\n",
       "      <td>6406.41070</td>\n",
       "    </tr>\n",
       "    <tr>\n",
       "      <th>9</th>\n",
       "      <td>60</td>\n",
       "      <td>female</td>\n",
       "      <td>25.840</td>\n",
       "      <td>0</td>\n",
       "      <td>no</td>\n",
       "      <td>northwest</td>\n",
       "      <td>28923.13692</td>\n",
       "    </tr>\n",
       "  </tbody>\n",
       "</table>\n",
       "</div>"
      ],
      "text/plain": [
       "   age     sex     bmi  children smoker     region      charges\n",
       "0   19  female  27.900         0    yes  southwest  16884.92400\n",
       "1   18    male  33.770         1     no  southeast   1725.55230\n",
       "2   28    male  33.000         3     no  southeast   4449.46200\n",
       "3   33    male  22.705         0     no  northwest  21984.47061\n",
       "4   32    male  28.880         0     no  northwest   3866.85520\n",
       "5   31  female  25.740         0     no  southeast   3756.62160\n",
       "6   46  female  33.440         1     no  southeast   8240.58960\n",
       "7   37  female  27.740         3     no  northwest   7281.50560\n",
       "8   37    male  29.830         2     no  northeast   6406.41070\n",
       "9   60  female  25.840         0     no  northwest  28923.13692"
      ]
     },
     "execution_count": 43,
     "metadata": {},
     "output_type": "execute_result"
    }
   ],
   "source": [
    "df.head(10)"
   ]
  },
  {
   "cell_type": "code",
   "execution_count": 44,
   "metadata": {},
   "outputs": [],
   "source": [
    "average_age=df['age'].mean()"
   ]
  },
  {
   "cell_type": "code",
   "execution_count": 45,
   "metadata": {},
   "outputs": [
    {
     "name": "stdout",
     "output_type": "stream",
     "text": [
      "Object `dataset` not found.\n",
      "Average age is 39\n"
     ]
    }
   ],
   "source": [
    "Determine the average age of the patients in the dataset??\n",
    "\n",
    "print('Average age is ' + str(int(average_age)))"
   ]
  },
  {
   "cell_type": "code",
   "execution_count": null,
   "metadata": {},
   "outputs": [],
   "source": []
  },
  {
   "cell_type": "raw",
   "metadata": {},
   "source": []
  },
  {
   "cell_type": "code",
   "execution_count": 46,
   "metadata": {},
   "outputs": [
    {
     "name": "stdout",
     "output_type": "stream",
     "text": [
      "Average insurance costs smokers : 32050.23183153284\n",
      "Average insurance costs non smokers : 8434.268297856204\n"
     ]
    }
   ],
   "source": [
    "# Determine the difference of costs between smokers and non-smokers:\n",
    "average_insurance_costs_smokers=df[df['smoker'] == 'yes']['charges'].mean()\n",
    "print(\"Average insurance costs smokers : \" + str(average_insurance_costs_smokers))\n",
    "average_insurance_costs_non_smokers=df[df['smoker'] == 'no']['charges'].mean()\n",
    "print(\"Average insurance costs non smokers : \" + str(average_insurance_costs_non_smokers))"
   ]
  },
  {
   "cell_type": "code",
   "execution_count": 47,
   "metadata": {},
   "outputs": [
    {
     "name": "stdout",
     "output_type": "stream",
     "text": [
      "The difference of cost between smokers and non smoker is on average :$23615\n"
     ]
    }
   ],
   "source": [
    "difference_smokers_no_smokers = int(average_insurance_costs_smokers - average_insurance_costs_non_smokers)\n",
    "print(\"The difference of cost between smokers and non smoker is on average :\" + \"$\" + str(difference_smokers_no_smokers))"
   ]
  },
  {
   "cell_type": "code",
   "execution_count": 48,
   "metadata": {},
   "outputs": [],
   "source": [
    "#Determine a correlation of costs according to BMI? \n",
    "correlation_bmi= df['bmi'].corr(df['charges'])"
   ]
  },
  {
   "cell_type": "code",
   "execution_count": 49,
   "metadata": {},
   "outputs": [
    {
     "name": "stdout",
     "output_type": "stream",
     "text": [
      "Correlation coefficient between BMI and charges: 0.1983409688336289\n"
     ]
    }
   ],
   "source": [
    "print(\"Correlation coefficient between BMI and charges:\", correlation_bmi)"
   ]
  },
  {
   "cell_type": "markdown",
   "metadata": {},
   "source": [
    "The corr() function in pandas calculates the Pearson correlation coefficient by default, which measures the linear relationship between two continuous variables like 'bmi' and 'charges'. The result will be a correlation coefficient value between -1 and 1. A positive value indicates a positive correlation, and a negative value indicates a negative correlation. The closer the absolute value is to 1, the stronger the correlation."
   ]
  },
  {
   "cell_type": "code",
   "execution_count": 59,
   "metadata": {},
   "outputs": [],
   "source": [
    "#The value of 0.198 indicates that for each one-unit increase in BMI, insurance charges may increase by approximately 0.198 units on average. It's important to note that this is a general trend and does not imply a direct cause-and-effect relationship."
   ]
  },
  {
   "cell_type": "code",
   "execution_count": 50,
   "metadata": {},
   "outputs": [
    {
     "name": "stdout",
     "output_type": "stream",
     "text": [
      "southeast    364\n",
      "southwest    325\n",
      "northwest    325\n",
      "northeast    324\n",
      "Name: region, dtype: int64\n"
     ]
    }
   ],
   "source": [
    "#Determirepartition_per_region = df['region'].value_counts()ne where the majority of individuals are from and the repartition per region ?\n",
    "repartition_per_region = df['region'].value_counts()\n",
    "print(repartition_per_region)"
   ]
  },
  {
   "cell_type": "code",
   "execution_count": 51,
   "metadata": {},
   "outputs": [
    {
     "name": "stdout",
     "output_type": "stream",
     "text": [
      "Correlation coefficient between age and charges: 0.29900819333064776\n"
     ]
    }
   ],
   "source": [
    "#Determine a correlation of costs according to age? \n",
    "correlation_age = df['age'].corr(df['charges'])\n",
    "print(\"Correlation coefficient between age and charges:\", correlation_age)"
   ]
  },
  {
   "cell_type": "code",
   "execution_count": 55,
   "metadata": {},
   "outputs": [
    {
     "name": "stdout",
     "output_type": "stream",
     "text": [
      "region\n",
      "southeast    14735.411438\n",
      "northeast    13406.384516\n",
      "northwest    12417.575374\n",
      "southwest    12346.937377\n",
      "Name: charges, dtype: float64\n"
     ]
    }
   ],
   "source": [
    "#Determine a difference of costs according to regions? \n",
    "average_charges_per_region = df.groupby('region')['charges'].mean()\n",
    "sorted_average_charges_per_region= average_charges_per_region.sort_values(ascending=False)\n",
    "print(sorted_average_charges_per_region)"
   ]
  },
  {
   "cell_type": "code",
   "execution_count": 66,
   "metadata": {},
   "outputs": [],
   "source": [
    "# Conclusion: Factors Driving Insurance Charges Up\n",
    "\n",
    "# The analysis conducted on the medical insurance dataset primarily focused on several key factors, including age, smoking status, BMI, and region, in relation to insurance charges. These factors were identified as significant contributors to variations in insurance costs. However, it's important to recognize that there are additional factors that were not explicitly explored in the analysis, but could still play a role in driving insurance charges up.\n",
    "\n",
    "# Gender: While gender was not explicitly included in the analysis, it's well-established that insurance companies often consider gender as a factor in determining insurance charges. Gender-based differences in health risks and medical utilization patterns could influence charges. Typically, certain conditions or health risks associated with a particular gender might lead to higher insurance costs.\n",
    "# Number of Children: The number of children an individual has could also impact insurance charges. Families with more children might have increased healthcare needs, potentially affecting their insurance costs. Additionally, childbirth-related expenses and pediatric care could contribute to higher charges.\n",
    "# Pre-existing Health Conditions: The presence of pre-existing health conditions is a critical determinant of insurance charges. Individuals with chronic illnesses or medical conditions might require more frequent medical care and treatment, resulting in higher charges.\n",
    "# It's essential to recognize that insurance charges are influenced by a complex interplay of various factors, and their individual impact can vary. While the analysis explored key factors, the influence of gender, number of children, and pre-existing health conditions on insurance charges underscores the multifaceted nature of healthcare cost determination. A comprehensive understanding of these factors can provide a more accurate picture of the drivers behind insurance charges, enabling individuals and policymakers to make informed decisions regarding healthcare coverage and costs. Further research and analysis specifically targeting these factors could provide valuable insights into their contributions to insurance charges.# \n"
   ]
  },
  {
   "cell_type": "code",
   "execution_count": null,
   "metadata": {},
   "outputs": [],
   "source": []
  },
  {
   "cell_type": "code",
   "execution_count": null,
   "metadata": {},
   "outputs": [],
   "source": []
  }
 ],
 "metadata": {
  "kernelspec": {
   "display_name": "Python 3 (ipykernel)",
   "language": "python",
   "name": "python3"
  },
  "language_info": {
   "codemirror_mode": {
    "name": "ipython",
    "version": 3
   },
   "file_extension": ".py",
   "mimetype": "text/x-python",
   "name": "python",
   "nbconvert_exporter": "python",
   "pygments_lexer": "ipython3",
   "version": "3.10.9"
  }
 },
 "nbformat": 4,
 "nbformat_minor": 4
}
